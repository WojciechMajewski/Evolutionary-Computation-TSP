{
  "cells": [
    {
      "cell_type": "code",
      "execution_count": 45,
      "metadata": {},
      "outputs": [],
      "source": [
        "import math\n",
        "import random\n",
        "import pandas as pd\n",
        "import numpy as np"
      ]
    },
    {
      "cell_type": "code",
      "execution_count": 46,
      "metadata": {
        "id": "2CZHPABb5_XI"
      },
      "outputs": [],
      "source": [
        "df1 = pd.read_csv('TSPA.csv', header = None, sep = ';')\n",
        "df2 = pd.read_csv('TSPB.csv', header = None, sep = ';')\n",
        "df3 = pd.read_csv('TSPC.csv', header = None, sep = ';')\n",
        "df4 = pd.read_csv('TSPD.csv', header = None, sep = ';')"
      ]
    },
    {
      "cell_type": "code",
      "execution_count": 47,
      "metadata": {
        "colab": {
          "base_uri": "https://localhost:8080/",
          "height": 424
        },
        "id": "xxAiG5sB6q8Q",
        "outputId": "133f4d84-eae4-45c5-b172-2c6520a5ccdd"
      },
      "outputs": [
        {
          "data": {
            "text/html": [
              "<div>\n",
              "<style scoped>\n",
              "    .dataframe tbody tr th:only-of-type {\n",
              "        vertical-align: middle;\n",
              "    }\n",
              "\n",
              "    .dataframe tbody tr th {\n",
              "        vertical-align: top;\n",
              "    }\n",
              "\n",
              "    .dataframe thead th {\n",
              "        text-align: right;\n",
              "    }\n",
              "</style>\n",
              "<table border=\"1\" class=\"dataframe\">\n",
              "  <thead>\n",
              "    <tr style=\"text-align: right;\">\n",
              "      <th></th>\n",
              "      <th>0</th>\n",
              "      <th>1</th>\n",
              "      <th>2</th>\n",
              "    </tr>\n",
              "  </thead>\n",
              "  <tbody>\n",
              "    <tr>\n",
              "      <th>0</th>\n",
              "      <td>1510</td>\n",
              "      <td>353</td>\n",
              "      <td>84</td>\n",
              "    </tr>\n",
              "    <tr>\n",
              "      <th>1</th>\n",
              "      <td>3042</td>\n",
              "      <td>123</td>\n",
              "      <td>483</td>\n",
              "    </tr>\n",
              "    <tr>\n",
              "      <th>2</th>\n",
              "      <td>2145</td>\n",
              "      <td>389</td>\n",
              "      <td>1462</td>\n",
              "    </tr>\n",
              "    <tr>\n",
              "      <th>3</th>\n",
              "      <td>1030</td>\n",
              "      <td>365</td>\n",
              "      <td>1986</td>\n",
              "    </tr>\n",
              "    <tr>\n",
              "      <th>4</th>\n",
              "      <td>2125</td>\n",
              "      <td>360</td>\n",
              "      <td>145</td>\n",
              "    </tr>\n",
              "    <tr>\n",
              "      <th>...</th>\n",
              "      <td>...</td>\n",
              "      <td>...</td>\n",
              "      <td>...</td>\n",
              "    </tr>\n",
              "    <tr>\n",
              "      <th>195</th>\n",
              "      <td>1023</td>\n",
              "      <td>1258</td>\n",
              "      <td>197</td>\n",
              "    </tr>\n",
              "    <tr>\n",
              "      <th>196</th>\n",
              "      <td>3192</td>\n",
              "      <td>1271</td>\n",
              "      <td>1183</td>\n",
              "    </tr>\n",
              "    <tr>\n",
              "      <th>197</th>\n",
              "      <td>3735</td>\n",
              "      <td>1879</td>\n",
              "      <td>1461</td>\n",
              "    </tr>\n",
              "    <tr>\n",
              "      <th>198</th>\n",
              "      <td>3983</td>\n",
              "      <td>299</td>\n",
              "      <td>1309</td>\n",
              "    </tr>\n",
              "    <tr>\n",
              "      <th>199</th>\n",
              "      <td>2605</td>\n",
              "      <td>3</td>\n",
              "      <td>364</td>\n",
              "    </tr>\n",
              "  </tbody>\n",
              "</table>\n",
              "<p>200 rows × 3 columns</p>\n",
              "</div>"
            ],
            "text/plain": [
              "        0     1     2\n",
              "0    1510   353    84\n",
              "1    3042   123   483\n",
              "2    2145   389  1462\n",
              "3    1030   365  1986\n",
              "4    2125   360   145\n",
              "..    ...   ...   ...\n",
              "195  1023  1258   197\n",
              "196  3192  1271  1183\n",
              "197  3735  1879  1461\n",
              "198  3983   299  1309\n",
              "199  2605     3   364\n",
              "\n",
              "[200 rows x 3 columns]"
            ]
          },
          "execution_count": 47,
          "metadata": {},
          "output_type": "execute_result"
        }
      ],
      "source": [
        "df1"
      ]
    },
    {
      "attachments": {},
      "cell_type": "markdown",
      "metadata": {},
      "source": [
        "### Distance matrix\n",
        "Node costs included"
      ]
    },
    {
      "cell_type": "code",
      "execution_count": 48,
      "metadata": {
        "id": "IaOG00FP7N2A"
      },
      "outputs": [],
      "source": [
        "def calculate_distance(city1, city2):\n",
        "    return math.ceil(math.sqrt((city1[0]-city2[0])**2 + (city1[1]-city2[1])**2))"
      ]
    },
    {
      "cell_type": "code",
      "execution_count": 49,
      "metadata": {},
      "outputs": [],
      "source": [
        "def create_distance_matrix(df):\n",
        "    distance_matrix = [[df.iloc[j, 2] for j in range(df.shape[0])] for i in range(df.shape[0])]\n",
        "    for i in range(df.shape[0]):\n",
        "        for j in range(df.shape[0]):\n",
        "            if i == j:\n",
        "                break\n",
        "            dist = calculate_distance(df.values[i][:2], df.values[j][:2])\n",
        "            distance_matrix[i][j] += dist\n",
        "            distance_matrix[j][i] += dist\n",
        "    return distance_matrix"
      ]
    },
    {
      "attachments": {},
      "cell_type": "markdown",
      "metadata": {},
      "source": [
        "### Helpful debugging function for checking the length of the cycle"
      ]
    },
    {
      "cell_type": "code",
      "execution_count": 50,
      "metadata": {},
      "outputs": [],
      "source": [
        "def check_cycle_length(df, path):\n",
        "    distance_matrix = create_distance_matrix(df)\n",
        "    dist = 0\n",
        "    for index, node in enumerate(path[:-1]):\n",
        "        dist += distance_matrix[node][path[(index+1) % len(path)]]\n",
        "    dist += distance_matrix[path[-1]][path[0]]\n",
        "    return dist"
      ]
    },
    {
      "attachments": {},
      "cell_type": "markdown",
      "metadata": {
        "id": "olOcMlpBcKs5"
      },
      "source": [
        "### Random Solution"
      ]
    },
    {
      "cell_type": "code",
      "execution_count": 51,
      "metadata": {
        "id": "CGBxexp1vq9P"
      },
      "outputs": [],
      "source": [
        "def random_TSP(cost_matrix):\n",
        "    path = random.sample(range(0, len(cost_matrix)), math.ceil(len(cost_matrix) / 2))\n",
        "    dist = 0\n",
        "    for index, item in enumerate(path):\n",
        "        dist += cost_matrix[item][path[(index+1) % len(path)]]\n",
        "    return dist, path"
      ]
    },
    {
      "attachments": {},
      "cell_type": "markdown",
      "metadata": {
        "id": "WD1gp7rqjknB"
      },
      "source": [
        "### Nearest Neighbour"
      ]
    },
    {
      "cell_type": "code",
      "execution_count": 52,
      "metadata": {
        "id": "pWxK2oZ5jh0h"
      },
      "outputs": [],
      "source": [
        "def nearest_TSP(cost_matrix, starting_city):\n",
        "    dist = 0\n",
        "    path = [starting_city]\n",
        "\n",
        "    cycle_length = math.ceil(len(cost_matrix) / 2)\n",
        "\n",
        "    for i in range(0, cycle_length - 1):\n",
        "        shortest_distance = math.inf\n",
        "        shortest_city = -1\n",
        "\n",
        "        for j in range(len(cost_matrix)):\n",
        "            if j in path:\n",
        "                continue\n",
        "            if cost_matrix[path[-1]][j] < shortest_distance:\n",
        "                shortest_distance = cost_matrix[path[-1]][j]\n",
        "                shortest_city = j\n",
        "        \n",
        "        path.append(shortest_city)\n",
        "        dist += shortest_distance\n",
        "\n",
        "    dist += cost_matrix[path[-1]][starting_city]\n",
        "\n",
        "    return dist, path"
      ]
    },
    {
      "attachments": {},
      "cell_type": "markdown",
      "metadata": {},
      "source": [
        "### Greedy Cycle"
      ]
    },
    {
      "cell_type": "code",
      "execution_count": 53,
      "metadata": {},
      "outputs": [],
      "source": [
        "def greedy_TSP(cost_matrix, starting_city):\n",
        "    dist = 0\n",
        "    path = [starting_city]\n",
        "\n",
        "    cycle_length = math.ceil(len(cost_matrix) / 2)\n",
        "\n",
        "    shortest_distance = math.inf\n",
        "    shortest_city = -1\n",
        "\n",
        "    for j in range(len(cost_matrix)):\n",
        "        if j in path:\n",
        "            continue\n",
        "        if cost_matrix[path[-1]][j] < shortest_distance:\n",
        "            shortest_distance = cost_matrix[path[-1]][j]\n",
        "            shortest_city = j\n",
        "    \n",
        "    path.append(shortest_city)\n",
        "    dist += shortest_distance\n",
        "    dist += cost_matrix[path[-1]][starting_city]\n",
        "\n",
        "    for i in range(0, cycle_length - 2):\n",
        "        shortest_extra_distance = math.inf\n",
        "        shortest_city = -1\n",
        "        shortest_city_index = -1\n",
        "\n",
        "        for j in range(len(cost_matrix)):\n",
        "            if j in path:\n",
        "                continue\n",
        "            \n",
        "            for k in range(len(path)):\n",
        "                extra_distance = cost_matrix[path[k]][j] + cost_matrix[j][path[(k+1) % len(path)]] - cost_matrix[path[k]][path[(k+1) % len(path)]]\n",
        "                if extra_distance < shortest_extra_distance:\n",
        "                    shortest_extra_distance = extra_distance\n",
        "                    shortest_city = j\n",
        "                    shortest_city_index = k+1\n",
        "            \n",
        "        \n",
        "        path.insert(shortest_city_index, shortest_city)\n",
        "        dist += shortest_extra_distance\n",
        "    \n",
        "\n",
        "\n",
        "    return dist, path"
      ]
    },
    {
      "attachments": {},
      "cell_type": "markdown",
      "metadata": {
        "id": "Dqs2HuXDt-In"
      },
      "source": [
        "### Compare methods"
      ]
    },
    {
      "cell_type": "code",
      "execution_count": 54,
      "metadata": {
        "colab": {
          "base_uri": "https://localhost:8080/"
        },
        "id": "7ZJLPfaAt9gY",
        "outputId": "3670240e-5f6a-43cc-d7f9-f8bd110fa0de"
      },
      "outputs": [
        {
          "name": "stdout",
          "output_type": "stream",
          "text": [
            "\n",
            "==============[Dataset 1]==============\n",
            "RANDOM TSP\n",
            "Best solution: [196, 172, 18, 55, 49, 77, 139, 140, 101, 143, 164, 185, 135, 28, 78, 25, 191, 51, 144, 43, 11, 34, 74, 183, 26, 114, 147, 142, 197, 100, 97, 174, 127, 44, 59, 22, 190, 6, 1, 161, 3, 125, 178, 189, 61, 180, 163, 132, 46, 108, 24, 72, 0, 173, 177, 176, 84, 133, 104, 81, 27, 79, 92, 145, 48, 128, 96, 70, 39, 134, 91, 123, 87, 169, 107, 175, 170, 71, 20, 184, 29, 120, 13, 153, 192, 129, 7, 54, 37, 2, 195, 110, 36, 93, 150, 188, 40, 73, 187, 137]\n",
            "Shortest distance: 244565\n",
            "Longest distance: 294569\n",
            "Average distance: 265316.395\n",
            "\n",
            "NEAREST NEIGHBOUR TSP\n",
            "Best solution: [1, 177, 75, 189, 119, 48, 106, 11, 152, 130, 26, 8, 95, 169, 135, 167, 186, 79, 141, 6, 98, 66, 72, 94, 31, 80, 14, 111, 73, 112, 51, 190, 156, 172, 24, 87, 154, 81, 117, 55, 195, 74, 163, 113, 185, 96, 147, 59, 143, 178, 19, 0, 149, 114, 4, 77, 43, 50, 121, 91, 76, 22, 53, 62, 108, 171, 21, 194, 144, 102, 133, 180, 32, 132, 128, 164, 159, 27, 116, 64, 20, 71, 183, 103, 61, 181, 25, 36, 145, 161, 153, 88, 127, 175, 199, 41, 137, 174, 192, 150]\n",
            "Shortest distance: 84524\n",
            "Longest distance: 95060\n",
            "Average distance: 87725.4\n",
            "\n",
            "GREEDY CYCLE TSP\n",
            "Best solution: [42, 89, 12, 94, 66, 6, 172, 156, 98, 190, 72, 112, 51, 135, 99, 101, 167, 45, 186, 127, 88, 153, 175, 91, 0, 76, 55, 117, 21, 79, 194, 87, 141, 144, 102, 154, 81, 171, 15, 108, 62, 53, 22, 195, 74, 163, 113, 36, 132, 128, 181, 61, 71, 20, 64, 185, 59, 96, 27, 116, 147, 143, 159, 164, 178, 19, 69, 149, 50, 121, 114, 4, 77, 43, 192, 199, 174, 75, 177, 41, 1, 189, 109, 119, 130, 152, 11, 160, 48, 106, 92, 26, 8, 169, 95, 73, 31, 80, 14, 111]\n",
            "Shortest distance: 75726\n",
            "Longest distance: 80376\n",
            "Average distance: 77141.41\n",
            "\n",
            "==============[Dataset 2]==============\n",
            "RANDOM TSP\n",
            "Best solution: [84, 2, 186, 126, 194, 47, 40, 97, 50, 1, 48, 174, 66, 7, 152, 118, 20, 14, 162, 21, 128, 95, 188, 115, 105, 121, 167, 161, 187, 125, 117, 153, 92, 57, 29, 193, 112, 151, 51, 71, 33, 133, 76, 166, 130, 89, 63, 147, 195, 30, 185, 8, 27, 54, 18, 82, 136, 199, 45, 5, 90, 61, 122, 16, 139, 88, 102, 142, 119, 78, 164, 183, 46, 73, 77, 146, 127, 135, 172, 4, 62, 132, 196, 99, 10, 35, 44, 80, 55, 182, 79, 6, 141, 163, 150, 192, 49, 190, 170, 65]\n",
            "Shortest distance: 240094\n",
            "Longest distance: 287128\n",
            "Average distance: 265386.115\n",
            "\n",
            "NEAREST NEIGHBOUR TSP\n",
            "Best solution: [114, 67, 117, 44, 71, 12, 18, 16, 8, 82, 115, 63, 142, 148, 141, 130, 140, 174, 91, 51, 70, 156, 162, 150, 196, 192, 21, 53, 69, 113, 32, 2, 182, 66, 99, 137, 88, 80, 145, 157, 153, 55, 154, 25, 36, 134, 165, 37, 50, 143, 179, 101, 31, 34, 183, 197, 127, 121, 24, 103, 38, 131, 122, 92, 135, 190, 198, 19, 73, 136, 185, 132, 52, 107, 119, 59, 64, 129, 89, 159, 147, 181, 170, 189, 47, 109, 139, 97, 193, 166, 85, 72, 58, 171, 28, 158, 126, 45, 3, 78]\n",
            "Shortest distance: 77602\n",
            "Longest distance: 82688\n",
            "Average distance: 79315.37\n",
            "\n",
            "GREEDY CYCLE TSP\n",
            "Best solution: [50, 24, 127, 121, 131, 103, 38, 101, 31, 179, 143, 122, 92, 197, 183, 34, 5, 128, 66, 169, 135, 198, 190, 19, 95, 172, 40, 115, 82, 63, 8, 16, 18, 132, 52, 139, 21, 142, 141, 148, 140, 130, 174, 51, 70, 91, 156, 3, 192, 196, 117, 150, 158, 67, 114, 85, 72, 171, 58, 89, 129, 159, 147, 64, 166, 162, 44, 71, 193, 119, 59, 97, 107, 12, 109, 189, 181, 170, 185, 73, 61, 136, 79, 145, 157, 80, 153, 4, 55, 88, 36, 25, 134, 154, 165, 37, 137, 57, 0, 99]\n",
            "Shortest distance: 68803\n",
            "Longest distance: 76380\n",
            "Average distance: 70787.49\n",
            "\n",
            "==============[Dataset 3]==============\n",
            "RANDOM TSP\n",
            "Best solution: [178, 105, 71, 133, 165, 48, 118, 61, 149, 75, 52, 161, 46, 162, 33, 135, 36, 56, 32, 124, 82, 175, 169, 177, 186, 67, 88, 152, 153, 146, 19, 77, 157, 38, 155, 145, 174, 112, 78, 81, 108, 102, 130, 166, 113, 171, 37, 132, 63, 181, 17, 110, 150, 98, 129, 122, 164, 137, 103, 54, 90, 114, 134, 116, 92, 13, 159, 49, 85, 25, 196, 60, 139, 68, 180, 120, 170, 74, 96, 34, 7, 99, 4, 16, 198, 26, 191, 167, 39, 91, 189, 192, 18, 94, 72, 0, 76, 41, 104, 195]\n",
            "Shortest distance: 191978\n",
            "Longest distance: 234883\n",
            "Average distance: 214861.48\n",
            "\n",
            "NEAREST NEIGHBOUR TSP\n",
            "Best solution: [190, 98, 6, 66, 156, 172, 141, 87, 79, 21, 194, 186, 88, 153, 114, 4, 77, 43, 149, 0, 19, 178, 164, 128, 132, 55, 195, 22, 117, 53, 62, 74, 163, 113, 185, 64, 20, 71, 61, 183, 103, 7, 32, 180, 81, 154, 144, 102, 133, 171, 108, 15, 18, 155, 93, 146, 182, 138, 36, 76, 161, 91, 121, 50, 69, 35, 86, 192, 199, 177, 75, 189, 1, 41, 137, 174, 167, 101, 135, 51, 95, 169, 8, 80, 124, 123, 26, 48, 106, 11, 152, 130, 119, 109, 134, 99, 112, 72, 94, 12]\n",
            "Shortest distance: 56352\n",
            "Longest distance: 63744\n",
            "Average distance: 58926.12\n",
            "\n",
            "GREEDY CYCLE TSP\n",
            "Best solution: [99, 101, 60, 167, 175, 4, 77, 43, 114, 121, 91, 50, 149, 69, 19, 178, 164, 40, 128, 132, 36, 113, 163, 74, 138, 195, 22, 53, 62, 108, 81, 154, 79, 194, 21, 171, 15, 117, 55, 145, 49, 0, 76, 161, 153, 88, 127, 186, 45, 51, 5, 112, 190, 66, 6, 172, 156, 98, 72, 94, 42, 89, 12, 73, 31, 95, 169, 110, 105, 124, 80, 123, 8, 125, 26, 106, 198, 160, 48, 92, 130, 11, 152, 188, 1, 41, 137, 177, 199, 39, 174, 75, 189, 126, 109, 119, 134, 139, 196, 135]\n",
            "Shortest distance: 53527\n",
            "Longest distance: 58927\n",
            "Average distance: 55899.45\n",
            "\n",
            "==============[Dataset 4]==============\n",
            "RANDOM TSP\n",
            "Best solution: [176, 90, 91, 167, 10, 147, 161, 187, 196, 111, 61, 136, 103, 49, 197, 80, 173, 13, 106, 65, 66, 53, 105, 29, 19, 86, 131, 142, 164, 81, 172, 77, 178, 95, 116, 94, 99, 146, 1, 8, 52, 56, 133, 102, 63, 78, 9, 2, 89, 64, 108, 101, 84, 25, 4, 199, 79, 31, 143, 134, 181, 177, 175, 32, 24, 68, 46, 140, 182, 11, 5, 163, 27, 174, 35, 67, 98, 22, 6, 92, 59, 137, 144, 113, 97, 158, 70, 127, 18, 117, 148, 41, 132, 191, 82, 45, 30, 7, 40, 166]\n",
            "Shortest distance: 192305\n",
            "Longest distance: 245023\n",
            "Average distance: 219252.84\n",
            "\n",
            "NEAREST NEIGHBOUR TSP\n",
            "Best solution: [12, 107, 139, 44, 117, 196, 150, 162, 67, 114, 85, 129, 64, 89, 159, 147, 58, 171, 72, 71, 119, 59, 193, 166, 28, 110, 158, 156, 91, 51, 70, 174, 140, 148, 141, 142, 130, 188, 161, 192, 21, 138, 82, 115, 8, 63, 16, 18, 132, 185, 73, 136, 61, 33, 29, 190, 135, 198, 66, 169, 99, 137, 88, 153, 80, 157, 145, 79, 19, 95, 172, 182, 2, 5, 34, 143, 179, 121, 127, 24, 122, 197, 183, 101, 31, 38, 103, 131, 50, 152, 112, 154, 25, 36, 134, 194, 165, 37, 102, 57]\n",
            "Shortest distance: 50393\n",
            "Longest distance: 59904\n",
            "Average distance: 54356.305\n",
            "\n",
            "GREEDY CYCLE TSP\n",
            "Best solution: [47, 170, 100, 181, 187, 87, 59, 119, 193, 71, 44, 162, 158, 126, 45, 67, 114, 72, 85, 171, 58, 89, 129, 159, 147, 64, 28, 166, 110, 150, 117, 192, 155, 78, 3, 156, 91, 70, 51, 174, 161, 130, 188, 140, 148, 141, 13, 142, 21, 138, 60, 196, 139, 97, 107, 12, 52, 65, 132, 18, 16, 14, 8, 63, 82, 115, 40, 172, 95, 163, 182, 2, 5, 34, 183, 197, 179, 121, 24, 127, 143, 122, 92, 26, 128, 66, 169, 135, 198, 190, 19, 168, 29, 33, 136, 61, 73, 185, 109, 189]\n",
            "Shortest distance: 50288\n",
            "Longest distance: 60050\n",
            "Average distance: 54863.735\n"
          ]
        }
      ],
      "source": [
        "iterations = 200 ### change hardcode to matrix size\n",
        "nearest_bests = []\n",
        "greedy_bests = []\n",
        "\n",
        "for id, df in enumerate([df1, df2, df3, df4]):\n",
        "    distance_matrix = create_distance_matrix(df)\n",
        "\n",
        "    print(f'\\n==============[Dataset {id+1}]==============')\n",
        "    print(f'RANDOM TSP')\n",
        "\n",
        "    min_dist = math.inf\n",
        "    max_dist = 0\n",
        "    avg_dist = 0\n",
        "    best_path = []\n",
        "\n",
        "    for i in range(0, iterations):\n",
        "        dist, path = random_TSP(distance_matrix)\n",
        "        avg_dist += dist\n",
        "\n",
        "        if dist < min_dist:\n",
        "            min_dist = dist\n",
        "            best_path = path\n",
        "        elif dist > max_dist:\n",
        "            max_dist = dist\n",
        "    \n",
        "    avg_dist /= iterations\n",
        "\n",
        "    print(f'Best solution: {best_path}')\n",
        "    print(f'Shortest distance: {min_dist}')\n",
        "    print(f'Longest distance: {max_dist}')\n",
        "    print(f'Average distance: {avg_dist}')\n",
        "\n",
        "    print(f'\\nNEAREST NEIGHBOUR TSP')\n",
        "\n",
        "    min_dist = math.inf\n",
        "    max_dist = 0\n",
        "    avg_dist = 0\n",
        "    best_path = []\n",
        "\n",
        "    for i in range(0, iterations):\n",
        "        dist, path = nearest_TSP(distance_matrix, i)\n",
        "        avg_dist += dist\n",
        "\n",
        "        if dist < min_dist:\n",
        "            min_dist = dist\n",
        "            best_path = path\n",
        "        elif dist > max_dist:\n",
        "            max_dist = dist\n",
        "    \n",
        "    avg_dist /= iterations\n",
        "\n",
        "    assert check_cycle_length(df, best_path) == min_dist\n",
        "\n",
        "    nearest_bests.append(min_dist)\n",
        "\n",
        "    print(f'Best solution: {best_path}')\n",
        "    print(f'Shortest distance: {min_dist}')\n",
        "    print(f'Longest distance: {max_dist}')\n",
        "    print(f'Average distance: {avg_dist}')\n",
        "\n",
        "    print(f'\\nGREEDY CYCLE TSP')\n",
        "\n",
        "    min_dist = math.inf\n",
        "    max_dist = 0\n",
        "    avg_dist = 0\n",
        "    best_path = []\n",
        "\n",
        "    for i in range(0, iterations):\n",
        "        dist, path = greedy_TSP(distance_matrix, i)\n",
        "        avg_dist += dist\n",
        "\n",
        "        if dist < min_dist:\n",
        "            min_dist = dist\n",
        "            best_path = path\n",
        "        elif dist > max_dist:\n",
        "            max_dist = dist\n",
        "    \n",
        "    avg_dist /= iterations\n",
        "\n",
        "    assert check_cycle_length(df, best_path) == min_dist\n",
        "\n",
        "    greedy_bests.append(min_dist)\n",
        "\n",
        "    print(f'Best solution: {best_path}')\n",
        "    print(f'Shortest distance: {min_dist}')\n",
        "    print(f'Longest distance: {max_dist}')\n",
        "    print(f'Average distance: {avg_dist}')"
      ]
    },
    {
      "cell_type": "code",
      "execution_count": 55,
      "metadata": {},
      "outputs": [
        {
          "name": "stdout",
          "output_type": "stream",
          "text": [
            "df1 Nearest 84524\n",
            "df2 Nearest 77602\n",
            "df3 Nearest 56352\n",
            "df4 Nearest 50393\n"
          ]
        }
      ],
      "source": [
        "for i in range(4):\n",
        "    print(f\"df{i+1} Nearest {nearest_bests[i]}\")"
      ]
    },
    {
      "cell_type": "code",
      "execution_count": 56,
      "metadata": {},
      "outputs": [
        {
          "name": "stdout",
          "output_type": "stream",
          "text": [
            "df1 Greedy 75726\n",
            "df2 Greedy 68803\n",
            "df3 Greedy 53527\n",
            "df4 Greedy 50288\n"
          ]
        }
      ],
      "source": [
        "for i in range(4):\n",
        "    print(f\"df{i+1} Greedy {greedy_bests[i]}\")"
      ]
    }
  ],
  "metadata": {
    "colab": {
      "provenance": []
    },
    "kernelspec": {
      "display_name": "Python 3",
      "name": "python3"
    },
    "language_info": {
      "codemirror_mode": {
        "name": "ipython",
        "version": 3
      },
      "file_extension": ".py",
      "mimetype": "text/x-python",
      "name": "python",
      "nbconvert_exporter": "python",
      "pygments_lexer": "ipython3",
      "version": "3.11.3"
    }
  },
  "nbformat": 4,
  "nbformat_minor": 0
}
